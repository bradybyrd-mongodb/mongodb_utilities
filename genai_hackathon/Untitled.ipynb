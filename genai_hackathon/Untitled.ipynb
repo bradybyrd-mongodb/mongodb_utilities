{
 "cells": [
  {
   "cell_type": "markdown",
   "id": "642f233a",
   "metadata": {},
   "source": [
    "# Interactive on PDF import"
   ]
  },
  {
   "cell_type": "code",
   "execution_count": null,
   "id": "ca78ed7b",
   "metadata": {},
   "outputs": [],
   "source": [
    "import os\n",
    "import sys\n",
    "base_dir = os.path.dirname(os.path.abspath(__file__))\n",
    "# apppend parent folder to path\n",
    "sys.path.append(os.path.dirname(base_dir))\n",
    "from bbutil import Util\n",
    "import requests\n",
    "from io import BytesIO\n",
    "from io import StringIO\n",
    "from pdfminer.high_level import extract_text_to_fp\n",
    "from pdfminer.converter import TextConverter\n",
    "from pdfminer.layout import LAParams\n",
    "from pdfminer.pdfdocument import PDFDocument\n",
    "from pdfminer.pdfinterp import PDFResourceManager, PDFPageInterpreter\n",
    "from pdfminer.pdfpage import PDFPage\n",
    "from pdfminer.pdfparser import PDFParser\n",
    "print(\"All Loaded\")\n",
    "doc_path = \"pdfs/Y0001_H7301_006_PR26_SB23_M.pdf\""
   ]
  },
  {
   "cell_type": "markdown",
   "id": "04cd7369",
   "metadata": {},
   "source": [
    "- method to process PDF"
   ]
  },
  {
   "cell_type": "code",
   "execution_count": null,
   "id": "87890a32",
   "metadata": {},
   "outputs": [],
   "source": [
    "def load_pdf(filepath):\n",
    "    pdf_file = \"/Users/brady.byrd/Documents/mongodb/demo/pdfconvert/Updated.DSC-Hydroxychloroquine.chloroquine.pdf\"\n",
    "    output_string = StringIO()\n",
    "    with open(docpath, 'rb') as in_file:\n",
    "        parser = PDFParser(in_file)\n",
    "        doc = PDFDocument(parser)\n",
    "        rsrcmgr = PDFResourceManager()\n",
    "        device = TextConverter(rsrcmgr, output_string, laparams=LAParams())\n",
    "        interpreter = PDFPageInterpreter(rsrcmgr, device)\n",
    "        for page in PDFPage.create_pages(doc):\n",
    "            interpreter.process_page(page)\n",
    "\n",
    "    #bb.logit(output_string.getvalue())\n",
    "    return output_string.getvalue()"
   ]
  },
  {
   "cell_type": "markdown",
   "id": "abdaf6d1",
   "metadata": {},
   "source": [
    "result = load_pdf(doc_path)\n",
    "print(\"Got result\")"
   ]
  }
 ],
 "metadata": {
  "kernelspec": {
   "display_name": "Python 3 (ipykernel)",
   "language": "python",
   "name": "python3"
  },
  "language_info": {
   "codemirror_mode": {
    "name": "ipython",
    "version": 3
   },
   "file_extension": ".py",
   "mimetype": "text/x-python",
   "name": "python",
   "nbconvert_exporter": "python",
   "pygments_lexer": "ipython3",
   "version": "3.11.3"
  }
 },
 "nbformat": 4,
 "nbformat_minor": 5
}
